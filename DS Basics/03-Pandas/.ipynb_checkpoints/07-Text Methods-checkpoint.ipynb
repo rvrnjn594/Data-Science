{
 "cells": [
  {
   "cell_type": "code",
   "execution_count": 2,
   "id": "6693cd14",
   "metadata": {},
   "outputs": [],
   "source": [
    "import pandas as pd\n",
    "import numpy as np"
   ]
  },
  {
   "cell_type": "code",
   "execution_count": 3,
   "id": "f952810b",
   "metadata": {},
   "outputs": [],
   "source": [
    "email = 'rvrnjn594@gmail.com'"
   ]
  },
  {
   "cell_type": "code",
   "execution_count": 8,
   "id": "03330a87",
   "metadata": {},
   "outputs": [
    {
     "data": {
      "text/plain": [
       "['rvrnjn594', 'gmail.com']"
      ]
     },
     "execution_count": 8,
     "metadata": {},
     "output_type": "execute_result"
    }
   ],
   "source": [
    "email.split('@')"
   ]
  },
  {
   "cell_type": "code",
   "execution_count": 9,
   "id": "5e0e67e7",
   "metadata": {},
   "outputs": [
    {
     "data": {
      "text/plain": [
       "False"
      ]
     },
     "execution_count": 9,
     "metadata": {},
     "output_type": "execute_result"
    }
   ],
   "source": [
    "email.isdigit()"
   ]
  },
  {
   "cell_type": "code",
   "execution_count": 5,
   "id": "77622d23",
   "metadata": {},
   "outputs": [],
   "source": [
    "names = pd.Series(['ravi','chandan','vishal','kiran','5'])"
   ]
  },
  {
   "cell_type": "code",
   "execution_count": 7,
   "id": "dfb7ddbb",
   "metadata": {},
   "outputs": [
    {
     "data": {
      "text/plain": [
       "0       RAVI\n",
       "1    CHANDAN\n",
       "2     VISHAL\n",
       "3      KIRAN\n",
       "4          5\n",
       "dtype: object"
      ]
     },
     "execution_count": 7,
     "metadata": {},
     "output_type": "execute_result"
    }
   ],
   "source": [
    "names.str.upper()"
   ]
  },
  {
   "cell_type": "code",
   "execution_count": 12,
   "id": "260640e2",
   "metadata": {},
   "outputs": [
    {
     "data": {
      "text/plain": [
       "4    5\n",
       "dtype: object"
      ]
     },
     "execution_count": 12,
     "metadata": {},
     "output_type": "execute_result"
    }
   ],
   "source": [
    "names[names.str.isdigit()]"
   ]
  },
  {
   "cell_type": "code",
   "execution_count": 21,
   "id": "0d397f9b",
   "metadata": {},
   "outputs": [],
   "source": [
    "tech_finance = ['GOOG,AAPL,AMZN','JPM,BOA,GS,PWC']"
   ]
  },
  {
   "cell_type": "code",
   "execution_count": 22,
   "id": "e43cbc6b",
   "metadata": {},
   "outputs": [
    {
     "data": {
      "text/plain": [
       "2"
      ]
     },
     "execution_count": 22,
     "metadata": {},
     "output_type": "execute_result"
    }
   ],
   "source": [
    "len(tech_finance)"
   ]
  },
  {
   "cell_type": "code",
   "execution_count": 23,
   "id": "c2278fe3",
   "metadata": {},
   "outputs": [],
   "source": [
    "tickers = pd.Series(tech_finance)"
   ]
  },
  {
   "cell_type": "code",
   "execution_count": 24,
   "id": "97a2b9f6",
   "metadata": {},
   "outputs": [
    {
     "data": {
      "text/plain": [
       "0     [GOOG, AAPL, AMZN]\n",
       "1    [JPM, BOA, GS, PWC]\n",
       "dtype: object"
      ]
     },
     "execution_count": 24,
     "metadata": {},
     "output_type": "execute_result"
    }
   ],
   "source": [
    "tickers.str.split(',')"
   ]
  },
  {
   "cell_type": "code",
   "execution_count": 25,
   "id": "10711a87",
   "metadata": {},
   "outputs": [
    {
     "data": {
      "text/plain": [
       "'AAPL'"
      ]
     },
     "execution_count": 25,
     "metadata": {},
     "output_type": "execute_result"
    }
   ],
   "source": [
    "tickers.str.split(',')[0][1]"
   ]
  },
  {
   "cell_type": "code",
   "execution_count": 26,
   "id": "8e330d71",
   "metadata": {},
   "outputs": [
    {
     "data": {
      "text/html": [
       "<div>\n",
       "<style scoped>\n",
       "    .dataframe tbody tr th:only-of-type {\n",
       "        vertical-align: middle;\n",
       "    }\n",
       "\n",
       "    .dataframe tbody tr th {\n",
       "        vertical-align: top;\n",
       "    }\n",
       "\n",
       "    .dataframe thead th {\n",
       "        text-align: right;\n",
       "    }\n",
       "</style>\n",
       "<table border=\"1\" class=\"dataframe\">\n",
       "  <thead>\n",
       "    <tr style=\"text-align: right;\">\n",
       "      <th></th>\n",
       "      <th>0</th>\n",
       "      <th>1</th>\n",
       "      <th>2</th>\n",
       "      <th>3</th>\n",
       "    </tr>\n",
       "  </thead>\n",
       "  <tbody>\n",
       "    <tr>\n",
       "      <th>0</th>\n",
       "      <td>GOOG</td>\n",
       "      <td>AAPL</td>\n",
       "      <td>AMZN</td>\n",
       "      <td>None</td>\n",
       "    </tr>\n",
       "    <tr>\n",
       "      <th>1</th>\n",
       "      <td>JPM</td>\n",
       "      <td>BOA</td>\n",
       "      <td>GS</td>\n",
       "      <td>PWC</td>\n",
       "    </tr>\n",
       "  </tbody>\n",
       "</table>\n",
       "</div>"
      ],
      "text/plain": [
       "      0     1     2     3\n",
       "0  GOOG  AAPL  AMZN  None\n",
       "1   JPM   BOA    GS   PWC"
      ]
     },
     "execution_count": 26,
     "metadata": {},
     "output_type": "execute_result"
    }
   ],
   "source": [
    "tickers.str.split(',',expand=True)"
   ]
  },
  {
   "cell_type": "code",
   "execution_count": 33,
   "id": "4c68bc89",
   "metadata": {},
   "outputs": [],
   "source": [
    "messy_name = pd.Series(['ravi ranjan  ','bo:bo','    claire  '])"
   ]
  },
  {
   "cell_type": "code",
   "execution_count": 34,
   "id": "74ba74af",
   "metadata": {},
   "outputs": [
    {
     "data": {
      "text/plain": [
       "0    ravi ranjan  \n",
       "1            bo:bo\n",
       "2         claire  \n",
       "dtype: object"
      ]
     },
     "execution_count": 34,
     "metadata": {},
     "output_type": "execute_result"
    }
   ],
   "source": [
    "messy_name"
   ]
  },
  {
   "cell_type": "code",
   "execution_count": 38,
   "id": "1668a084",
   "metadata": {},
   "outputs": [
    {
     "data": {
      "text/plain": [
       "0    RaviRanjan\n",
       "1          Bobo\n",
       "2        Claire\n",
       "dtype: object"
      ]
     },
     "execution_count": 38,
     "metadata": {},
     "output_type": "execute_result"
    }
   ],
   "source": [
    "messy_name.str.replace(':','').str.strip().str.title().str.replace(' ','')"
   ]
  },
  {
   "cell_type": "code",
   "execution_count": 39,
   "id": "11f139cd",
   "metadata": {},
   "outputs": [],
   "source": [
    "def clean_up(name):\n",
    "    name = name.replace(':','')\n",
    "    name = name.strip()\n",
    "    name = name.title()\n",
    "    name = name.replace(' ','')\n",
    "    return name"
   ]
  },
  {
   "cell_type": "code",
   "execution_count": 40,
   "id": "6cb9f7ea",
   "metadata": {},
   "outputs": [
    {
     "data": {
      "text/plain": [
       "0    RaviRanjan\n",
       "1          Bobo\n",
       "2        Claire\n",
       "dtype: object"
      ]
     },
     "execution_count": 40,
     "metadata": {},
     "output_type": "execute_result"
    }
   ],
   "source": [
    "messy_name.apply(clean_up)"
   ]
  },
  {
   "cell_type": "code",
   "execution_count": null,
   "id": "894dab68",
   "metadata": {},
   "outputs": [],
   "source": []
  }
 ],
 "metadata": {
  "kernelspec": {
   "display_name": "Python 3 (ipykernel)",
   "language": "python",
   "name": "python3"
  },
  "language_info": {
   "codemirror_mode": {
    "name": "ipython",
    "version": 3
   },
   "file_extension": ".py",
   "mimetype": "text/x-python",
   "name": "python",
   "nbconvert_exporter": "python",
   "pygments_lexer": "ipython3",
   "version": "3.10.9"
  }
 },
 "nbformat": 4,
 "nbformat_minor": 5
}
